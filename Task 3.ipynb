{
 "cells": [
  {
   "cell_type": "code",
   "execution_count": null,
   "id": "fe547d63",
   "metadata": {},
   "outputs": [],
   "source": [
    "7. You are given a sentence, and want to shift each letter by 2 in alphabet to create a secret code. \n",
    "The sentence you want to encode is the lazy dog jumped \n",
    "over the quick brown fox and the output should be ’vjg ncba fqi lworgf qxgt vjg swkem dtqyp hqz’\n",
    "\n",
    "8. converts minutes to seconds.\n",
    "\n",
    "9. Converts age in years to days"
   ]
  },
  {
   "cell_type": "code",
   "execution_count": null,
   "id": "2123aa8b",
   "metadata": {},
   "outputs": [],
   "source": [
    "8. converts minutes to seconds."
   ]
  },
  {
   "cell_type": "markdown",
   "id": "2aeb4f3a",
   "metadata": {},
   "source": [
    "#### Answer"
   ]
  },
  {
   "cell_type": "code",
   "execution_count": 2,
   "id": "3ba937eb",
   "metadata": {},
   "outputs": [
    {
     "name": "stdout",
     "output_type": "stream",
     "text": [
      "Enter number of minutes 14\n",
      "840\n"
     ]
    }
   ],
   "source": [
    "minutes=int(input(\"Enter number of minutes \"))\n",
    "seconds=minutes*60\n",
    "print(seconds)"
   ]
  },
  {
   "cell_type": "code",
   "execution_count": null,
   "id": "80dfa18a",
   "metadata": {},
   "outputs": [],
   "source": [
    "9. Converts age in years to days"
   ]
  },
  {
   "cell_type": "markdown",
   "id": "fa73c655",
   "metadata": {},
   "source": [
    "#### Answer"
   ]
  },
  {
   "cell_type": "code",
   "execution_count": 3,
   "id": "3c7f4126",
   "metadata": {},
   "outputs": [
    {
     "name": "stdout",
     "output_type": "stream",
     "text": [
      "Enter your age 17\n",
      "6205\n"
     ]
    }
   ],
   "source": [
    "age_in_years=int(input(\"Enter your age \"))\n",
    "age_in_days=age_in_years*365\n",
    "print(age_in_days)"
   ]
  },
  {
   "cell_type": "code",
   "execution_count": null,
   "id": "cc6e75e8",
   "metadata": {},
   "outputs": [],
   "source": []
  }
 ],
 "metadata": {
  "kernelspec": {
   "display_name": "Python 3 (ipykernel)",
   "language": "python",
   "name": "python3"
  },
  "language_info": {
   "codemirror_mode": {
    "name": "ipython",
    "version": 3
   },
   "file_extension": ".py",
   "mimetype": "text/x-python",
   "name": "python",
   "nbconvert_exporter": "python",
   "pygments_lexer": "ipython3",
   "version": "3.9.7"
  }
 },
 "nbformat": 4,
 "nbformat_minor": 5
}
